{
 "cells": [
  {
   "cell_type": "code",
   "execution_count": 42,
   "metadata": {
    "collapsed": false
   },
   "outputs": [
    {
     "name": "stdout",
     "output_type": "stream",
     "text": [
      "Heuristic is 78.68 % accurate.\n"
     ]
    }
   ],
   "source": [
    "import numpy as np\n",
    "import pandas as pd\n",
    "import statsmodels.api as sm\n",
    "\n",
    "def simple_heuristic(file_path):\n",
    "    '''\n",
    "    We would like for you to take your knowledge and intuition about the Titanic\n",
    "    and its passengers' attributes to predict whether or not the passengers survived\n",
    "    or perished. You can read more about the Titanic and specifics about this dataset at:\n",
    "\n",
    "    http://en.wikipedia.org/wiki/RMS_Titanic\n",
    "    http://www.kaggle.com/c/titanic-gettingStarted\n",
    "        \n",
    "    In this exercise and the following ones, you are given a list of Titantic passengers\n",
    "    and their associated information. More information about the data can be seen at the \n",
    "    link below:\n",
    "    \n",
    "    http://www.kaggle.com/c/titanic-gettingStarted/data. \n",
    "\n",
    "    You can also look at the Titantic data that you will be working with\n",
    "    at the link below:\n",
    "    https://s3.amazonaws.com/content.udacity-data.com/courses/ud359/titanic_data.csv\n",
    "    '''\n",
    "\n",
    "    actual = {}\n",
    "    predictions = {}\n",
    "    compare = {}\n",
    "    df = pd.read_csv(file_path)\n",
    "    for passenger_index, passenger in df.iterrows():\n",
    "        passenger_id = passenger['PassengerId']\n",
    "        actual[passenger_id] = passenger['Survived']\n",
    "        \n",
    "        # Your code here:\n",
    "        # For example, let's assume that if the passenger\n",
    "        # is a male, then the passenger survived.\n",
    "        if passenger['Sex'] == 'male':\n",
    "            predictions[passenger_id] = 0\n",
    "        else:\n",
    "            predictions[passenger_id] = 1\n",
    "        \n",
    "        if passenger['Survived'] == predictions[passenger_id]:\n",
    "            compare[passenger_id] = 1\n",
    "        else:\n",
    "            compare[passenger_id] = 0\n",
    "            \n",
    "    d={'actual':actual,\n",
    "       'pred':predictions,\n",
    "       'compare':compare}\n",
    "    df1 = pd.DataFrame(d)\n",
    "    #print(df1)\n",
    "    \n",
    "    sumcolumn = df1.sum(axis=0)\n",
    "    sumcompare = sumcolumn['compare']\n",
    "    rowcount = df1.compare.count()\n",
    "    #print(sumcompare)\n",
    "    #print(rowcount)\n",
    "    print(\"Heuristic is\", np.around((sumcompare/rowcount)*100, decimals=2) ,\"% accurate.\")\n",
    "\n",
    "    return predictions\n",
    "\n",
    "pred = simple_heuristic(\"titanic_data.csv\")\n"
   ]
  }
 ],
 "metadata": {
  "anaconda-cloud": {},
  "kernelspec": {
   "display_name": "Python [conda root]",
   "language": "python",
   "name": "conda-root-py"
  },
  "language_info": {
   "codemirror_mode": {
    "name": "ipython",
    "version": 3
   },
   "file_extension": ".py",
   "mimetype": "text/x-python",
   "name": "python",
   "nbconvert_exporter": "python",
   "pygments_lexer": "ipython3",
   "version": "3.5.2"
  }
 },
 "nbformat": 4,
 "nbformat_minor": 1
}
