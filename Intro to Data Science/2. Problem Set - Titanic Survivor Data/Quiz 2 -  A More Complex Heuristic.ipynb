{
 "cells": [
  {
   "cell_type": "code",
   "execution_count": 7,
   "metadata": {
    "collapsed": false
   },
   "outputs": [
    {
     "name": "stdout",
     "output_type": "stream",
     "text": [
      "Heuristic is 79.12 % accurate.\n"
     ]
    }
   ],
   "source": [
    "import numpy as np\n",
    "import pandas as pd \n",
    "import statsmodels.api as sm\n",
    "\n",
    "def complex_heuristic(file_path):\n",
    "    '''\n",
    "    You are given a list of Titantic passengers and their associated\n",
    "    information. More information about the data can be seen at the link below:\n",
    "    http://www.kaggle.com/c/titanic-gettingStarted/data\n",
    "    \n",
    "    You can also look at the Titantic data that you will be working with\n",
    "    at the link below:\n",
    "    https://s3.amazonaws.com/content.udacity-data.com/courses/ud359/titanic_data.csv\n",
    "    '''\n",
    "\n",
    "    actual = {}\n",
    "    predictions = {}\n",
    "    compare = {}\n",
    "    \n",
    "    df = pd.read_csv(file_path)\n",
    "    for passenger_index, passenger in df.iterrows():\n",
    "        passenger_id = passenger['PassengerId']\n",
    "        # \n",
    "        # your code here\n",
    "        # for example, assuming that passengers who are male\n",
    "        # and older than 18 surived:\n",
    "        if passenger['Sex'] == 'female':\n",
    "           predictions[passenger_id] = 1\n",
    "        elif passenger['Pclass'] == 1 and passenger['Age'] < 18:\n",
    "           predictions[passenger_id] = 1\n",
    "        else:\n",
    "           predictions[passenger_id] = 0\n",
    "\n",
    "        if passenger['Survived'] == predictions[passenger_id]:\n",
    "            compare[passenger_id] = 1\n",
    "        else:\n",
    "            compare[passenger_id] = 0\n",
    "            \n",
    "    d={'actual':actual,\n",
    "       'pred':predictions,\n",
    "       'compare':compare}\n",
    "    df1 = pd.DataFrame(d)\n",
    "    #print(df1)\n",
    "    \n",
    "    sumcolumn = df1.sum(axis=0)\n",
    "    sumcompare = sumcolumn['compare']\n",
    "    rowcount = df1.compare.count()\n",
    "    #print(sumcompare)\n",
    "    #print(rowcount)\n",
    "    print(\"Heuristic is\", np.around((sumcompare/rowcount)*100, decimals=2) ,\"% accurate.\")\n",
    "        \n",
    "    return predictions\n",
    "\n",
    "pred = complex_heuristic(\"titanic_data.csv\")\n"
   ]
  }
 ],
 "metadata": {
  "kernelspec": {
   "display_name": "Python [conda root]",
   "language": "python",
   "name": "conda-root-py"
  },
  "language_info": {
   "codemirror_mode": {
    "name": "ipython",
    "version": 3
   },
   "file_extension": ".py",
   "mimetype": "text/x-python",
   "name": "python",
   "nbconvert_exporter": "python",
   "pygments_lexer": "ipython3",
   "version": "3.5.2"
  }
 },
 "nbformat": 4,
 "nbformat_minor": 1
}
