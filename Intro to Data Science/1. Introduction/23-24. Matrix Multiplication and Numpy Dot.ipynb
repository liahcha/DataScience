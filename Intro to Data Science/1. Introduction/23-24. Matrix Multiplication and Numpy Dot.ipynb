{
 "cells": [
  {
   "cell_type": "markdown",
   "metadata": {},
   "source": [
    "# 23. Matrix Multiplication and Numpy Dot\n",
    "\n",
    "\n",
    "### Numpy Dot\n",
    "\n",
    "- source : https://docs.scipy.org/doc/numpy/reference/generated/numpy.dot.html"
   ]
  },
  {
   "cell_type": "code",
   "execution_count": 7,
   "metadata": {},
   "outputs": [
    {
     "name": "stdout",
     "output_type": "stream",
     "text": [
      "[[4 1]\n",
      " [2 2]]\n",
      "\n",
      "499128\n",
      "\n",
      "499128\n"
     ]
    }
   ],
   "source": [
    "import numpy as np\n",
    "\n",
    "a= [[1, 0], [0, 1]]\n",
    "b = [[4, 1], [2, 2]]\n",
    "print (np.dot(a, b))\n",
    "print (\"\")\n",
    "\n",
    "a = np.arange(3*4*5*6).reshape((3,4,5,6))\n",
    "b = np.arange(3*4*5*6)[::-1].reshape((5,4,6,3))\n",
    "print (np.dot(a, b)[2,3,2,1,2,2])\n",
    "print (\"\")\n",
    "print (sum(a[2,3,2,:] * b[1,2,:,2]))"
   ]
  },
  {
   "cell_type": "markdown",
   "metadata": {},
   "source": [
    "# 24. Quiz: Olympics Medal Points"
   ]
  },
  {
   "cell_type": "code",
   "execution_count": 17,
   "metadata": {},
   "outputs": [
    {
     "name": "stdout",
     "output_type": "stream",
     "text": [
      "      country_name  points\n",
      "0     Russian Fed.      83\n",
      "1           Norway      64\n",
      "2           Canada      65\n",
      "3    United States      62\n",
      "4      Netherlands      55\n",
      "5          Germany      49\n",
      "6      Switzerland      32\n",
      "7          Belarus      21\n",
      "8          Austria      37\n",
      "9           France      31\n",
      "10          Poland      19\n",
      "11           China      22\n",
      "12           Korea      20\n",
      "13          Sweden      28\n",
      "14  Czech Republic      18\n",
      "15        Slovenia      16\n",
      "16           Japan      15\n",
      "17         Finland      11\n",
      "18   Great Britain       8\n",
      "19         Ukraine       5\n",
      "20        Slovakia       4\n",
      "21           Italy      10\n",
      "22          Latvia       6\n",
      "23       Australia       5\n",
      "24         Croatia       2\n",
      "25      Kazakhstan       1\n"
     ]
    }
   ],
   "source": [
    "import numpy\n",
    "from pandas import DataFrame, Series\n",
    "\n",
    "def numpy_dot():\n",
    "    countries = ['Russian Fed.', 'Norway', 'Canada', 'United States',\n",
    "                 'Netherlands', 'Germany', 'Switzerland', 'Belarus',\n",
    "                 'Austria', 'France', 'Poland', 'China', 'Korea', \n",
    "                 'Sweden', 'Czech Republic', 'Slovenia', 'Japan',\n",
    "                 'Finland', 'Great Britain', 'Ukraine', 'Slovakia',\n",
    "                 'Italy', 'Latvia', 'Australia', 'Croatia', 'Kazakhstan']\n",
    "\n",
    "    gold = [13, 11, 10, 9, 8, 8, 6, 5, 4, 4, 4, 3, 3, 2, 2, 2, 1, 1, 1, 1, 1, 0, 0, 0, 0, 0]\n",
    "    silver = [11, 5, 10, 7, 7, 6, 3, 0, 8, 4, 1, 4, 3, 7, 4, 2, 4, 3, 1, 0, 0, 2, 2, 2, 1, 0]\n",
    "    bronze = [9, 10, 5, 12, 9, 5, 2, 1, 5, 7, 1, 2, 2, 6, 2, 4, 3, 1, 2, 1, 0, 6, 2, 1, 0, 1]\n",
    " \n",
    "    # Answer\n",
    "    olympic_df = {'country_name':Series(countries),\n",
    "                            'gold': Series(gold),\n",
    "                            'silver': Series(silver),\n",
    "                            'bronze': Series(bronze)}\n",
    "    df = DataFrame(olympic_df)\n",
    "    medal_cnt = df[['gold','silver','bronze']]\n",
    "    points = np.dot(medal_cnt, [4,2,1])\n",
    "                    \n",
    "    olympic_points = {'country_name': Series(countries),\n",
    "                      'points': Series(points)}\n",
    "    olympic_points_df = DataFrame(olympic_points)\n",
    "    return olympic_points_df\n",
    "\n",
    "print (numpy_dot())"
   ]
  }
 ],
 "metadata": {
  "kernelspec": {
   "display_name": "Python 3",
   "language": "python",
   "name": "python3"
  },
  "language_info": {
   "codemirror_mode": {
    "name": "ipython",
    "version": 3
   },
   "file_extension": ".py",
   "mimetype": "text/x-python",
   "name": "python",
   "nbconvert_exporter": "python",
   "pygments_lexer": "ipython3",
   "version": "3.6.1"
  }
 },
 "nbformat": 4,
 "nbformat_minor": 2
}
