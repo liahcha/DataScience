{
 "cells": [
  {
   "cell_type": "markdown",
   "metadata": {},
   "source": [
    "\n",
    "## Visual Recognition\n",
    "\n",
    "- Classification\n",
    "- Classification + Localization\n",
    "- Object Detection\n",
    "- Instance Segmentation\n",
    "* 단순한 분류를 넘어, 조건에 따라 Localization, Detection, Segmentation 등이 있음\n",
    "\n",
    "## Object Detection\n",
    "\n",
    "- 입력 이미지 안에 존재하는 모든 object를 탐지\n",
    "- Input : 이미지\n",
    "- Output\n",
    "  - class label (사람)\n",
    "  - confidence level (0.9992)\n",
    "  - region box (x,y,w,h)\n",
    "    - (x,y) region box의 가운데 좌표 (기호에 따라 모서리 좌표를 사용하기도 함)\n",
    "    - (w,h) region box의 가로/세로 길이 \n",
    "\n",
    "\n",
    "### 어떻게 Region을 찾을 것인가?\n",
    "\n",
    "### Region 의 결정 \n",
    "\n",
    "\n",
    "## Faster Region-based CNN (R-CNN)\n",
    "\n",
    "\n",
    "## Region of Interest (RoI) Pooling\n",
    "\n",
    "\n",
    "## Residual Network Object Detection\n",
    "\n"
   ]
  }
 ],
 "metadata": {
  "kernelspec": {
   "display_name": "Python 3",
   "language": "python",
   "name": "python3"
  },
  "language_info": {
   "codemirror_mode": {
    "name": "ipython",
    "version": 3
   },
   "file_extension": ".py",
   "mimetype": "text/x-python",
   "name": "python",
   "nbconvert_exporter": "python",
   "pygments_lexer": "ipython3",
   "version": "3.6.1"
  }
 },
 "nbformat": 4,
 "nbformat_minor": 2
}
