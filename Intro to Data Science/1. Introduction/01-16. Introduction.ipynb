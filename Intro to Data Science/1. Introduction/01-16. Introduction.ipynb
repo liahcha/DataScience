{
 "cells": [
  {
   "cell_type": "markdown",
   "metadata": {},
   "source": [
    "# Basic data scientist skills\n",
    "\n",
    "### What does it mean for a data scientist to have 'substantive expertise', and why is it important?\n",
    "\n",
    "- Knows which questions to ask \n",
    "- Can interpret the data well\n",
    "- Understands structure of the data\n",
    "- Data scientist often works in teams\n",
    "--> to problem solving\n",
    "\n",
    "데이터분석가의 기본 역량은 문제 해결을 위해 질문을 할 줄 알고, 데이터를 잘 해석할 수 있고,  데이터 구조를 이해해야 한다. (또 주로 팀으로 일하기 때문)\n",
    "\n",
    "![The Data Science Cenn Diagram](https://static1.squarespace.com/static/5150aec6e4b0e340ec52710a/t/51525c33e4b0b3e0d10f77ab/1364352052403/Data_Science_VD.png?format=300w)\n",
    "\n",
    "source : http://drewconway.com/zia/2013/3/26/the-data-science-venn-diagram\n",
    "\n"
   ]
  },
  {
   "cell_type": "markdown",
   "metadata": {},
   "source": [
    "## Intro to Numpy and pandas\n",
    "\n",
    "#### Numpy\n",
    "\n",
    "- Multidimensional arrays + Matrices\n",
    "- Mathematical functions useful for statistical analysis ; Mean, Median, Standard deviation\n",
    "\n",
    "#### Pandas\n",
    "\n",
    "- Handle data in a way suited to analysis\n",
    "- Similar to R\n"
   ]
  },
  {
   "cell_type": "markdown",
   "metadata": {},
   "source": [
    "\n",
    "# Numpy"
   ]
  },
  {
   "cell_type": "code",
   "execution_count": 17,
   "metadata": {
    "scrolled": true
   },
   "outputs": [
    {
     "name": "stdout",
     "output_type": "stream",
     "text": [
      "Mean:  3.0\n",
      "Median:  3.0\n",
      "Standard Deviation:  1.41421356237\n"
     ]
    }
   ],
   "source": [
    "import numpy as np\n",
    "\n",
    "# Mean, Median, Standard Deviation\n",
    "numbers = [1,2,3,4,5]\n",
    "\n",
    "print ('Mean: ', np.mean(numbers))\n",
    "print ('Median: ', np.median(numbers))\n",
    "print ('Standard Deviation: ', np.std(numbers))\n"
   ]
  },
  {
   "cell_type": "code",
   "execution_count": 34,
   "metadata": {
    "scrolled": true
   },
   "outputs": [
    {
     "name": "stdout",
     "output_type": "stream",
     "text": [
      "[ 1.  4.  5.  8.]\n",
      "[[ 1.  2.  3.]\n",
      " [ 4.  5.  6.]]\n",
      "\n",
      "[ 1.  4.  5.  8.]\n",
      "4.0\n",
      "[ 1.  4.]\n",
      "5.0\n",
      "\n",
      "[[ 1.  2.  3.]\n",
      " [ 4.  5.  6.]]\n",
      "5.0\n",
      "[ 4.  5.  6.]\n",
      "[ 3.  6.]\n",
      "\n",
      "[ 6.  4.  9.]\n",
      "[-4.  0. -3.]\n",
      "[  5.   4.  18.]\n",
      "\n",
      "2.0\n",
      "7.0\n",
      "[ 44.]\n"
     ]
    }
   ],
   "source": [
    "import numpy as np\n",
    "\n",
    "# Numpy arrays\n",
    "array = np.array([1, 4, 5, 8], float)\n",
    "print (array)\n",
    "array = np.array([[1, 2, 3], [4, 5, 6]], float)  # a 2D array/Matrix\n",
    "print (array)\n",
    "print (\"\")\n",
    "\n",
    "# index, slice, and manipulate a Numpy array\n",
    "array = np.array([1, 4, 5, 8], float)\n",
    "print (array)\n",
    "print (array[1])\n",
    "print (array[:2])\n",
    "array[1] = 5.0\n",
    "print (array[1])\n",
    "print (\"\")\n",
    "\n",
    "two_D_array = np.array([[1, 2, 3], [4, 5, 6]], float)\n",
    "print (two_D_array)\n",
    "print (two_D_array[1][1])\n",
    "print (two_D_array[1, :])\n",
    "print (two_D_array[:, 2])\n",
    "print (\"\")\n",
    "\n",
    "# arithmetic operations\n",
    "array_1 = np.array([1, 2, 3], float)\n",
    "array_2 = np.array([5, 2, 6], float)\n",
    "print (array_1 + array_2)\n",
    "print (array_1 - array_2)\n",
    "print (array_1 * array_2)\n",
    "print (\"\")\n",
    "\n",
    "# mean and dot product\n",
    "array_1 = np.array([1, 2, 3], float)\n",
    "array_2 = np.array([[6], [7], [8]], float)\n",
    "print (np.mean(array_1))\n",
    "print (np.mean(array_2))\n",
    "print (np.dot(array_1, array_2))\n"
   ]
  },
  {
   "cell_type": "markdown",
   "metadata": {},
   "source": [
    "# Pandas"
   ]
  },
  {
   "cell_type": "code",
   "execution_count": 41,
   "metadata": {},
   "outputs": [
    {
     "name": "stdout",
     "output_type": "stream",
     "text": [
      "0           Dave\n",
      "1      Cheng-Han\n",
      "2        Udacity\n",
      "3             42\n",
      "4    -1789710578\n",
      "dtype: object\n",
      "\n",
      "Instructor                 Dave\n",
      "Curriculum Manager    Cheng-Han\n",
      "Course Number               359\n",
      "Power Level                9001\n",
      "dtype: object\n",
      "\n",
      "Dave\n",
      "Instructor                 Dave\n",
      "Curriculum Manager    Cheng-Han\n",
      "Course Number               359\n",
      "dtype: object\n",
      "\n",
      "Cockroach    False\n",
      "Fish         False\n",
      "Mini Pig     False\n",
      "Puppy         True\n",
      "Kitten        True\n",
      "dtype: bool\n",
      "\n",
      "Puppy     4\n",
      "Kitten    5\n",
      "dtype: int64\n"
     ]
    }
   ],
   "source": [
    "import pandas as pd\n",
    "\n",
    "# concept of series in Pandas \n",
    "series = pd.Series(['Dave', 'Cheng-Han', 'Udacity', 42, -1789710578])\n",
    "print (series)\n",
    "print (\"\")\n",
    "\n",
    "# manually assign indices to the item in the Series\n",
    "series = pd.Series(['Dave', 'Cheng-Han', 359, 9001],\n",
    "                    index=['Instructor', 'Curriculum Manager','Course Number', 'Power Level'])\n",
    "print (series)\n",
    "print (\"\")\n",
    "\n",
    "# use index to select specific items from the Series\n",
    "series = pd.Series(['Dave', 'Cheng-Han', 359, 9001],\n",
    "                    index=['Instructor', 'Curriculum Manager','Course Number', 'Power Level'])\n",
    "print (series['Instructor'])\n",
    "print (series[['Instructor', 'Curriculum Manager', 'Course Number']])\n",
    "print (\"\")\n",
    "\n",
    "# boolean operators to select specific items from the Series\n",
    "cuteness = pd.Series([1, 2, 3, 4, 5], index=['Cockroach', 'Fish', 'Mini Pig', 'Puppy', 'Kitten'])\n",
    "print (cuteness > 3)\n",
    "print(\"\")\n",
    "print (cuteness[cuteness > 3])\n"
   ]
  },
  {
   "cell_type": "markdown",
   "metadata": {},
   "source": [
    "### Pandas useful functions for Dataframe\n",
    "\n",
    "- dtypes: to get the datatype for each column\n",
    "- describe: useful for seeing basic statistics of the dataframe's numerical columns\n",
    "- head: displays the first five rows of the dataset\n",
    "- tail: displays the last five rows of the dataset"
   ]
  },
  {
   "cell_type": "code",
   "execution_count": 45,
   "metadata": {},
   "outputs": [
    {
     "name": "stdout",
     "output_type": "stream",
     "text": [
      "   losses     team  wins  year\n",
      "0       5    Bears    11  2010\n",
      "1       8    Bears     8  2011\n",
      "2       6    Bears    10  2012\n",
      "3       1  Packers    15  2011\n",
      "4       5  Packers    11  2012\n",
      "5      10    Lions     6  2010\n",
      "6       6    Lions    10  2011\n",
      "7      12    Lions     4  2012\n",
      "\n",
      "losses     int64\n",
      "team      object\n",
      "wins       int64\n",
      "year       int64\n",
      "dtype: object\n",
      "\n",
      "          losses       wins         year\n",
      "count   8.000000   8.000000     8.000000\n",
      "mean    6.625000   9.375000  2011.125000\n",
      "std     3.377975   3.377975     0.834523\n",
      "min     1.000000   4.000000  2010.000000\n",
      "25%     5.000000   7.500000  2010.750000\n",
      "50%     6.000000  10.000000  2011.000000\n",
      "75%     8.500000  11.000000  2012.000000\n",
      "max    12.000000  15.000000  2012.000000\n",
      "\n",
      "   losses     team  wins  year\n",
      "0       5    Bears    11  2010\n",
      "1       8    Bears     8  2011\n",
      "2       6    Bears    10  2012\n",
      "3       1  Packers    15  2011\n",
      "4       5  Packers    11  2012\n",
      "\n",
      "   losses     team  wins  year\n",
      "3       1  Packers    15  2011\n",
      "4       5  Packers    11  2012\n",
      "5      10    Lions     6  2010\n",
      "6       6    Lions    10  2011\n",
      "7      12    Lions     4  2012\n"
     ]
    }
   ],
   "source": [
    "import numpy as np\n",
    "import pandas as pd\n",
    "\n",
    "# Dataframe\n",
    "data = {'year': [2010, 2011, 2012, 2011, 2012, 2010, 2011, 2012],\n",
    "        'team': ['Bears', 'Bears', 'Bears', 'Packers', 'Packers', 'Lions', 'Lions', 'Lions'],\n",
    "        'wins': [11, 8, 10, 15, 11, 6, 10, 4],\n",
    "        'losses': [5, 8, 6, 1, 5, 10, 6, 12]}\n",
    "football = pd.DataFrame(data)\n",
    "print (football)\n",
    "print (\"\")\n",
    "print (football.dtypes)\n",
    "print (\"\")\n",
    "print (football.describe())\n",
    "print (\"\")\n",
    "print (football.head())\n",
    "print (\"\")\n",
    "print (football.tail())"
   ]
  }
 ],
 "metadata": {
  "kernelspec": {
   "display_name": "Python 3",
   "language": "python",
   "name": "python3"
  },
  "language_info": {
   "codemirror_mode": {
    "name": "ipython",
    "version": 3
   },
   "file_extension": ".py",
   "mimetype": "text/x-python",
   "name": "python",
   "nbconvert_exporter": "python",
   "pygments_lexer": "ipython3",
   "version": "3.6.1"
  }
 },
 "nbformat": 4,
 "nbformat_minor": 2
}
